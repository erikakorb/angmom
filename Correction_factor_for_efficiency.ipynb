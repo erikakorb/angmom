{
 "cells": [
  {
   "cell_type": "code",
   "execution_count": 1,
   "id": "20a8cf45",
   "metadata": {},
   "outputs": [],
   "source": [
    "import numpy as np\n",
    "import matplotlib.pyplot as plt\n",
    "import pandas as pd"
   ]
  },
  {
   "cell_type": "markdown",
   "id": "b3979c38",
   "metadata": {},
   "source": [
    "# Correction factor fIMF for the sampling from a Kroupa IMF"
   ]
  },
  {
   "cell_type": "markdown",
   "id": "3787d200",
   "metadata": {},
   "source": [
    "## Functions from script of Giuliano to calculate IMF correction factor"
   ]
  },
  {
   "cell_type": "code",
   "execution_count": 2,
   "id": "9bb3ee06",
   "metadata": {},
   "outputs": [],
   "source": [
    "def Q(qmin,qmax):\n",
    "    \n",
    "    A=(qmax**0.9-qmin**0.9)/0.9\n",
    "    B=(qmax**1.9-qmin**1.9)/1.9\n",
    "    \n",
    "    return A+B\n",
    "\n",
    "def Mintegral(Mmin,Mmax):\n",
    "    \n",
    "    Mmin=np.atleast_1d(Mmin)\n",
    "    Mmax=np.atleast_1d(Mmax)\n",
    "    \n",
    "    if (len(Mmin)==1 and len(Mmax)>1): Mmin=np.array([Mmin[0],]*len(Mmax))\n",
    "    elif (len(Mmax)==1 and len(Mmin)>1): Mmax=np.array([Mmax[0],]*len(Mmin))\n",
    "    \n",
    "    Mblow=0.08\n",
    "    Mbint=0.5\n",
    "    \n",
    "    fMlow           = lambda m1,m2: (25/1.7)*(m2**1.7 - m1**1.7)\n",
    "    fMintermediate  = lambda m1,m2: (2/0.7)*(m2**0.7 - m1**0.7)\n",
    "    fMhigh          = lambda m1,m2: (-1/0.3)*(m2**(-0.3) - m1**(-0.3))\n",
    "    \n",
    "    ret=np.zeros_like(Mmin)\n",
    "    ret=np.where(Mmax>=Mmin,0,np.nan)\n",
    "    \n",
    "    #Case-1, Mmin<Mmax<Mblow\n",
    "    idx=(Mmin<Mblow) & (Mmax<=Mblow)\n",
    "    ret[idx]=fMlow(Mmin[idx],Mmax[idx])\n",
    "    \n",
    "    #Case-2, Mmin<Mblow<Mmax<Mbint\n",
    "    idx=(Mmin<Mblow) & (Mmax<=Mbint)\n",
    "    ret[idx]= fMlow(Mmin[idx],Mblow)  + fMintermediate(Mblow,Mmax[idx])\n",
    "    \n",
    "    #Case-3, Mmin<Mblow<Mbint<Mmax\n",
    "    idx=(Mmin<Mblow) & (Mmax>Mbint)\n",
    "    ret[idx]= fMlow(Mmin[idx],Mblow) +  fMintermediate(Mblow,Mbint)  + fMhigh(Mbint,Mmax[idx])\n",
    "    \n",
    "    #Case-4, Mblow<Mmin<Mmax<Mbint\n",
    "    idx=(Mmin>=Mblow) & (Mmin<Mbint) & (Mmax<=Mbint)\n",
    "    ret[idx]=  fMintermediate(Mmin[idx],Mmax[idx]) \n",
    "    \n",
    "    #Case-5, Mblow<Mmin<Mbint<Mmax\n",
    "    idx=(Mmin>=Mblow) & (Mmin<Mbint) & (Mmax>Mbint)\n",
    "    ret[idx]=  fMintermediate(Mmin[idx],Mbint)  + fMhigh(Mbint,Mmax[idx])\n",
    "    \n",
    "    #Case-5, Mbint<Mmin<Mmax\n",
    "    idx=(Mmin>=Mbint)  & (Mmax>Mbint)\n",
    "    ret[idx]= fMhigh(Mmin[idx],Mmax[idx])\n",
    "\n",
    "    \n",
    "    return ret\n",
    "\n",
    "def Mpop_independent(M1min,M1max,qmin,qmax):\n",
    "    \n",
    "    Mcal = Mintegral(M1min,M1max)\n",
    "    Qcal = Q(qmin,qmax)\n",
    "    \n",
    "    return Mcal*Qcal\n",
    "\n",
    "def fIMF_independent(M1min,M1max,qmin,qmax,M1ming=0.1,M1maxg=150,qming=0.1,qmaxg=1):\n",
    "    \n",
    "    #Check inputs\n",
    "    if (np.any(qmin<qming)): raise ValueError(f\"qmin  cannot be smaller than the qmin of the parent population \")\n",
    "    elif (np.any(qmax>qmaxg)): raise ValueError(f\"qmax  cannot be larger than the qmax of the parent population\")\n",
    "    elif (np.any(M1min<M1ming)): raise ValueError(f\"M1min  cannot be smaller than the M1min of the parent population \")\n",
    "    elif (np.any(M1max>M1maxg)):  raise ValueError(f\"M1max  cannot be larger than the M1max of the parent population\")\n",
    "    \n",
    "    Msubpop = Mpop_independent(M1min,M1max,qmin,qmax)\n",
    "    Mpop    = Mpop_independent(M1ming,M1maxg,qming,qmaxg)\n",
    "    \n",
    "    return Msubpop/Mpop"
   ]
  },
  {
   "cell_type": "markdown",
   "id": "0c90dbe8",
   "metadata": {},
   "source": [
    "We sampled $5 \\times 10^6$ binaries from a Kroupa IMF with \n",
    "\n",
    "$M_1 \\in [5,150] M_\\odot$\n",
    "$q \\in [0.1,1]$\n",
    "\n",
    "Is a CASE-A type"
   ]
  },
  {
   "cell_type": "code",
   "execution_count": 3,
   "id": "150c9ab8",
   "metadata": {},
   "outputs": [
    {
     "name": "stdout",
     "output_type": "stream",
     "text": [
      "The correction factor for Kroupa IMF sampled with a minimum mass 5 cut is fIMF=0.2890237434629212\n"
     ]
    }
   ],
   "source": [
    "M1min = 5\n",
    "fIMF = fIMF_independent(M1min,150,0.1,1)[0]\n",
    "print(f'The correction factor for Kroupa IMF sampled with a minimum mass {M1min} cut is fIMF={fIMF}')"
   ]
  },
  {
   "cell_type": "markdown",
   "id": "438fa6c3",
   "metadata": {},
   "source": [
    "# Total mass simulated\n",
    "We consider the total mass of the $5 \\times 10^6$ sample. Even if the parsec tracks limit the real evolution to only $\\sim 4 180 000$ systems (the ones in listBin5e6seed.dat), those $M_{ZAMS} \\leq 2.2 M_\\odot$ would not have produced a BH, so won't enter in the formation efficiency of BBH or MS-BH systems (in other words, their mass budget is not a viable progenitor budget to produce the objects we are interested in).\n",
    "\n",
    "Also, note that in each set some systems ($\\sim 100-1000$) fail because they merge after that their semimajor axis reduces below the helium core size. In the 2.15 version of SEVN these systems do not fail anymore, but they still do in the version adopted in this work (after the commits of 25 August). These systems will not form a BBH anyway, since they merge, so also their mass budget will be ignored for BBH formation. We also manually checked that these systems would form MS-BH, if any, at low periods, below the region allowed for BBH formation; where premature mergers occur (indeed). So if we were to consider also these systems, we expect a slight increase in the formation efficiency of MS-BH that coalesce, although the increase would be neglibigle (<0.1-1 \\%).\n",
    "\n",
    "To correct the simulated mass, first we calculate the mass generated from the Kroupa IMF ($M_{IC}$), then we correct it for the $M_{1, min}=5 M_\\odot$ cut in the IMF. Doing so, we obtain the total mass $M_{tot}$ of the underlying population, without biases introduced by the IMF cuts\n",
    "\n",
    "$M_{tot} = \\frac{M_{IC}}{f_{IMF}}$"
   ]
  },
  {
   "cell_type": "code",
   "execution_count": 17,
   "id": "33ca56fd",
   "metadata": {},
   "outputs": [
    {
     "name": "stdout",
     "output_type": "stream",
     "text": [
      "              0.00142      0.000142\n",
      "IsoT     1.008797e+08  1.008759e+08\n",
      "JeansT   1.008793e+08  1.008761e+08\n",
      "LminT    1.008794e+08  1.008758e+08\n",
      "LmaxT    1.008793e+08  1.008757e+08\n",
      "IsoNT    1.008772e+08  1.008692e+08\n",
      "JeansNT  1.008772e+08  1.008692e+08\n",
      "LminNT   1.008772e+08  1.008696e+08\n",
      "LmaxNT   1.008764e+08  1.008696e+08\n"
     ]
    }
   ],
   "source": [
    "# read file with simulated mass extracted from evolved files\n",
    "# with the mass_simulated.py script\n",
    "\n",
    "sevn_version = 'sevn_tides_fix6Agodadt'\n",
    "sims = ['IsoT','JeansT','LminT','LmaxT',\n",
    "        'IsoNT','JeansNT','LminNT','LmaxNT']\n",
    "path_to_df = f'./v_{sevn_version}/mass_simulated'\n",
    "mass_simulated = pd.read_csv(f'{path_to_df}/mass_simulated.csv', sep=',').drop(\"Unnamed: 0\", axis=1).set_index(pd.Index(sims))\n",
    "print(mass_simulated)"
   ]
  },
  {
   "cell_type": "code",
   "execution_count": 18,
   "id": "32f550e6",
   "metadata": {},
   "outputs": [
    {
     "name": "stdout",
     "output_type": "stream",
     "text": [
      "              0.00142      0.000142\n",
      "IsoT     3.490359e+08  3.490229e+08\n",
      "JeansT   3.490348e+08  3.490235e+08\n",
      "LminT    3.490349e+08  3.490225e+08\n",
      "LmaxT    3.490347e+08  3.490223e+08\n",
      "IsoNT    3.490274e+08  3.489998e+08\n",
      "JeansNT  3.490274e+08  3.489996e+08\n",
      "LminNT   3.490274e+08  3.490009e+08\n",
      "LmaxNT   3.490245e+08  3.490012e+08\n"
     ]
    }
   ],
   "source": [
    "M_tot = mass_simulated / fIMF\n",
    "print(M_tot)"
   ]
  },
  {
   "cell_type": "code",
   "execution_count": 19,
   "id": "4a90defa",
   "metadata": {},
   "outputs": [],
   "source": [
    "M_tot.to_csv(f'{path_to_df}/mass_corrected.csv')"
   ]
  },
  {
   "cell_type": "code",
   "execution_count": null,
   "id": "924b7ddb",
   "metadata": {},
   "outputs": [],
   "source": []
  },
  {
   "cell_type": "code",
   "execution_count": 4,
   "id": "273b30e1",
   "metadata": {},
   "outputs": [
    {
     "name": "stdout",
     "output_type": "stream",
     "text": [
      "             0.00142      0.000142\n",
      "LmaxT   1.006146e+08  1.007980e+08\n",
      "LmaxNT  1.007459e+08  1.008585e+08\n"
     ]
    }
   ],
   "source": [
    "# read file with simulated mass extracted from evolved files\n",
    "# with the mass_simulated.py script\n",
    "\n",
    "sevn_version = 'sevn_25ago'\n",
    "sims = ['LmaxT','LmaxNT']\n",
    "path_to_df = f'./v_{sevn_version}/mass_simulated'\n",
    "mass_simulated = pd.read_csv(f'{path_to_df}/mass_simulated.csv', sep=',').drop(\"Unnamed: 0\", axis=1).set_index(pd.Index(sims))\n",
    "print(mass_simulated)"
   ]
  },
  {
   "cell_type": "code",
   "execution_count": 5,
   "id": "e4fd6424",
   "metadata": {},
   "outputs": [
    {
     "name": "stdout",
     "output_type": "stream",
     "text": [
      "             0.00142      0.000142\n",
      "LmaxT   3.481189e+08  3.487535e+08\n",
      "LmaxNT  3.485729e+08  3.489626e+08\n"
     ]
    }
   ],
   "source": [
    "M_tot = mass_simulated / fIMF\n",
    "print(M_tot)"
   ]
  },
  {
   "cell_type": "code",
   "execution_count": 6,
   "id": "868e06e2",
   "metadata": {},
   "outputs": [],
   "source": [
    "M_tot.to_csv(f'{path_to_df}/mass_corrected.csv')"
   ]
  },
  {
   "cell_type": "markdown",
   "id": "8a282046",
   "metadata": {},
   "source": [
    "Note that original listBin5e6seed.dat file with $\\sim$ 4 180 000 binaries had a mass of $M_{IC} \\approx 1.07^8 M_\\odot$, \n",
    "\n",
    "that would have corresponded to a corrected underlying mass of $M_{tot} \\sim 3.72^8 M_\\odot$"
   ]
  }
 ],
 "metadata": {
  "kernelspec": {
   "display_name": "base",
   "language": "python",
   "name": "python3"
  },
  "language_info": {
   "codemirror_mode": {
    "name": "ipython",
    "version": 3
   },
   "file_extension": ".py",
   "mimetype": "text/x-python",
   "name": "python",
   "nbconvert_exporter": "python",
   "pygments_lexer": "ipython3",
   "version": "3.13.2"
  }
 },
 "nbformat": 4,
 "nbformat_minor": 5
}
